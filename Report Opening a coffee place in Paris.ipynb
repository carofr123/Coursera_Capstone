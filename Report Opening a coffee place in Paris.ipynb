{
    "cells": [
        {
            "cell_type": "markdown",
            "metadata": {},
            "source": "**1.Description of the problem and a discussion of the background**"
        },
        {
            "cell_type": "markdown",
            "metadata": {},
            "source": "The idea of this study is to help entrepreneurs that are planning to open a new coffee place in Paris to choose the right location by providing data for each neighbourhood as well as the competitors present in the neighborhood. \nCompetitors is one of the most important factors when opening a coffee place because even if the coffee place is perfect, you may find it difficult to do business if the closest 50 places are also coffee shops.\nIt is important to pick a neighborhood where there is a balance between the number of competitors and the number of potential customers.\n"
        },
        {
            "cell_type": "markdown",
            "metadata": {},
            "source": " **2.Description of the data and how it will be used to solve the problem**"
        },
        {
            "cell_type": "markdown",
            "metadata": {},
            "source": "To provide the stakeholders the necessary information I'll be combining Paris and its neighbourhood geo locations with the latitude and longitude of each neighbourhood in Paris, Paris Neighbourhoods 'description and density and Foursquare API to collect competitors on the same neighbourhoods.\n\nParis geolocation of each neighborhood publicly available at this website: https://public.opendatasoft.com/explore/embed/dataset/code-insee-postaux-geoflar/table/?flg=fr&refine.nom_region=ILE-DE-FRANCE&refine.code_dept=75\n\nParis Neighborhoods' description and its population publicly available at this website: https://fr.wikipedia.org/wiki/Arrondissements_de_Paris"
        },
        {
            "cell_type": "markdown",
            "metadata": {},
            "source": "**3.Methodology section which represents the main component of the report where you discuss and describe any exploratory data analysis that you did, any inferential statistical testing that you performed, if any, and what machine learnings were used and why**"
        },
        {
            "cell_type": "markdown",
            "metadata": {},
            "source": "For this report, first I used the population density to identify the neighborhoods with the highest density in Paris, I used Panda Dataframe and after cleaning the datas, i organized them in descending order. Then I merged the neighborhood/density table with the geolocalisation table that display the latitude and longitude for each neighborhood in Paris. I then used folium to display a map of Paris and its different neighborhoods. I then used Four Square to identify all the different competitors per neighborhood and I created a folium map to represent their locations. I then segmented and clustered the different neighborhoods per place of interests, I summarized in a table the 10th most common venues per neighborhood. then i decided to segment the neighborhood around 5 clusters using k-means clustering method and I represented the different clusters using different colors on the folium map of Prais. I organized the the clusters and display all the venues per cluster."
        },
        {
            "cell_type": "markdown",
            "metadata": {},
            "source": "**4.Results section**"
        },
        {
            "cell_type": "markdown",
            "metadata": {},
            "source": "Comparing the maps we can notice that the majority of the coffee shops are located in the center of Paris in the following neighborhoods 3e(Temple), 4e(Hotel-de-Ville) and 5e(Pantheon) which are not the most dense areas of Paris. The cluster 0 (red) is the cluster that gather the most active areas of Paris with restaurants, coffees, hotels, touristic places and those areas are also part of the nightlife of Paris so they are the most visted. The cluster 1 and 2 include areas that are more residentials where you could find more families activities like lakes/zoos. Cluster 3 is an areas with different cultures and where you can find food from different part of the world and Cluster 4 include museums and business places"
        },
        {
            "cell_type": "markdown",
            "metadata": {},
            "source": "**5.Discussion section where you discuss any observations you noted and any recommendations you can make based on the results.**"
        },
        {
            "cell_type": "markdown",
            "metadata": {},
            "source": "The biggest number of coffee shops is largely attributed to the most touristic areas of the city. I would recommend any areas within the cluster 0 (red), they are the most active areas with restaurants, coffees and hotels and I would not recommend the other areas that are less visited. As we highlighted the importance to pick a neighborhood where there is a balance between the number of competitirs and the number of potential customers, i would avoid the 3e,4e and 5e district where the competition seems to be too high but i would focus on the other dense areas like the 11e(Popincourt), 18e(Buttes Montmartre), 10e(Entrepot) and 20e(Menilmontant). Those areas are frequently visited and include restaurant , bars, bistrots, baleries which would ensure enough visits and we can see that there is a limited numbers of coffee shops , not to much competition as they are not part of teh two most common venues."
        },
        {
            "cell_type": "markdown",
            "metadata": {},
            "source": "**6.Conclusion section where you conclude the report**"
        },
        {
            "cell_type": "markdown",
            "metadata": {},
            "source": "This report may be helpful for someone planning on opening a coffee place in Paris, by comparing the neighborhoods profiles, however it may not cover all variables such as acess to public transportation or even the type of coffee shop and the targeted clients so it should not be used as a single decision making tool"
        },
        {
            "cell_type": "code",
            "execution_count": null,
            "metadata": {},
            "outputs": [],
            "source": ""
        }
    ],
    "metadata": {
        "kernelspec": {
            "display_name": "Python 3.7",
            "language": "python",
            "name": "python3"
        },
        "language_info": {
            "codemirror_mode": {
                "name": "ipython",
                "version": 3
            },
            "file_extension": ".py",
            "mimetype": "text/x-python",
            "name": "python",
            "nbconvert_exporter": "python",
            "pygments_lexer": "ipython3",
            "version": "3.7.9"
        }
    },
    "nbformat": 4,
    "nbformat_minor": 1
}