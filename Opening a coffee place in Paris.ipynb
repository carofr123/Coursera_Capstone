{
    "cells": [
        {
            "cell_type": "markdown",
            "metadata": {},
            "source": "1.Description of the problem and a discussion of the background. \nClearly define a problem or an idea of your choice, where you would need to leverage the Foursquare location data to solve or execute. Remember that data science problems always target an audience and are meant to help a group of stakeholders solve a problem, so make sure that you explicitly describe your audience and why they would care about your problem. This submission will eventually become your Introduction/Business Problem section in your final report. So I recommend that you push the report (having your Introduction/Business Problem section only for now) to your Github repository and submit a link to it."
        },
        {
            "cell_type": "markdown",
            "metadata": {},
            "source": "The idea of this study is to help entrepreneurs that are planning to open a new coffee place in Paris to choose the right location by providing data for each neighbourhood as well as the competitors present in the neighborhood. \nCompetitors is one of the most important factors when opening a coffee place because even if the coffee place is perfect, you may find it difficult to do business if the closest 50 places are also coffee shops.\nIt is important to pick a neighborhood where there is a balance between the number of competitors and the number of potential customers.\n"
        },
        {
            "cell_type": "markdown",
            "metadata": {},
            "source": " 2.Description of the data and how it will be used to solve the problem.\nDescribe the data that you will be using to solve the problem or execute your idea. Remember that you will need to use the Foursquare location data to solve the problem or execute your idea. You can absolutely use other datasets in combination with the Foursquare location data. So make sure that you provide adequate explanation and discussion, with examples, of the data that you will be using, even if it is only Foursquare location data.\nThis submission will eventually become your Data section in your final report. So I recommend that you push the report (having your Data section) to your Github repository and submit a link to it."
        },
        {
            "cell_type": "markdown",
            "metadata": {},
            "source": "To provide the stakeholders the necessary information I'll be combining Paris and its neighbourhood geo locations with the latitude and longitude of each neighbourhood in Paris, Paris Neighbourhoods 'description and density and Foursquare API to collect competitors on the same neighbourhoods.\n\nParis geolocation of each neighborhood publicly available at this website: https://public.opendatasoft.com/explore/embed/dataset/code-insee-postaux-geoflar/table/?flg=fr&refine.nom_region=ILE-DE-FRANCE&refine.code_dept=75\n\nParis Neighborhoods' description and its population publicly available at this website: https://fr.wikipedia.org/wiki/Arrondissements_de_Paris"
        },
        {
            "cell_type": "code",
            "execution_count": null,
            "metadata": {},
            "outputs": [],
            "source": ""
        }
    ],
    "metadata": {
        "kernelspec": {
            "display_name": "Python 3.7",
            "language": "python",
            "name": "python3"
        },
        "language_info": {
            "codemirror_mode": {
                "name": "ipython",
                "version": 3
            },
            "file_extension": ".py",
            "mimetype": "text/x-python",
            "name": "python",
            "nbconvert_exporter": "python",
            "pygments_lexer": "ipython3",
            "version": "3.7.9"
        }
    },
    "nbformat": 4,
    "nbformat_minor": 1
}