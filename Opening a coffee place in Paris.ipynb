{
    "cells": [
        {
            "cell_type": "markdown",
            "metadata": {},
            "source": "**1.Description of the problem and a discussion of the background**"
        },
        {
            "cell_type": "markdown",
            "metadata": {},
            "source": "The idea of this study is to help entrepreneurs that are planning to open a new coffee place in Paris to choose the right location by providing data for each neighbourhood as well as the competitors present in the neighborhood. \nCompetitors is one of the most important factors when opening a coffee place because even if the coffee place is perfect, you may find it difficult to do business if the closest 50 places are also coffee shops.\nIt is important to pick a neighborhood where there is a balance between the number of competitors and the number of potential customers.\n"
        },
        {
            "cell_type": "markdown",
            "metadata": {},
            "source": " **2.Description of the data and how it will be used to solve the problem**"
        },
        {
            "cell_type": "markdown",
            "metadata": {},
            "source": "To provide the stakeholders the necessary information I'll be combining Paris and its neighbourhood geo locations with the latitude and longitude of each neighbourhood in Paris, Paris Neighbourhoods 'description and density and Foursquare API to collect competitors on the same neighbourhoods.\n\nParis geolocation of each neighborhood publicly available at this website: https://public.opendatasoft.com/explore/embed/dataset/code-insee-postaux-geoflar/table/?flg=fr&refine.nom_region=ILE-DE-FRANCE&refine.code_dept=75\n\nParis Neighborhoods' description and its population publicly available at this website: https://fr.wikipedia.org/wiki/Arrondissements_de_Paris"
        },
        {
            "cell_type": "markdown",
            "metadata": {},
            "source": "**3.Methodology section which represents the main component of the report where you discuss and describe any exploratory data analysis that you did, any inferential statistical testing that you performed, if any, and what machine learnings were used and why**"
        },
        {
            "cell_type": "markdown",
            "metadata": {},
            "source": "For this report I used a few different maps that could help a new investor to decide the best neighborhood to open a restaurant in Paris based on it's income, population and available competitors. In order to do that I've used the 2016 Census information combined with choropleth maps to visually display the wealthier and more populational neighborhoods and Foursquare data to display the current restaurants in each region."
        }
    ],
    "metadata": {
        "kernelspec": {
            "display_name": "Python 3.7",
            "language": "python",
            "name": "python3"
        },
        "language_info": {
            "codemirror_mode": {
                "name": "ipython",
                "version": 3
            },
            "file_extension": ".py",
            "mimetype": "text/x-python",
            "name": "python",
            "nbconvert_exporter": "python",
            "pygments_lexer": "ipython3",
            "version": "3.7.9"
        }
    },
    "nbformat": 4,
    "nbformat_minor": 1
}